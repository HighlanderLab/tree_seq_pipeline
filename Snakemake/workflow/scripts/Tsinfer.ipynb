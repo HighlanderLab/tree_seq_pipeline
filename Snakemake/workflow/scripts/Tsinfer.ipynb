{
 "cells": [
  {
   "cell_type": "code",
   "execution_count": 1,
   "id": "5f8d3c41",
   "metadata": {},
   "outputs": [],
   "source": [
    "\n",
    "import cyvcf2\n",
    "import tsinfer\n",
    "import pandas as pd\n",
    "import json\n",
    "import numpy as np\n",
    "import sys\n",
    "import os"
   ]
  },
  {
   "cell_type": "code",
   "execution_count": 2,
   "id": "8c545baf",
   "metadata": {},
   "outputs": [
    {
     "data": {
      "text/plain": [
       "'0.3.0'"
      ]
     },
     "execution_count": 2,
     "metadata": {},
     "output_type": "execute_result"
    }
   ],
   "source": [
    "tsinfer.__version__"
   ]
  },
  {
   "cell_type": "code",
   "execution_count": 31,
   "id": "ff2bb555",
   "metadata": {},
   "outputs": [],
   "source": [
    "chromosome = 1\n",
    "vcfFile = \"/home/jana/Documents/1Projects/HoneybeeDemo/Tsinfer/Chr1_ancestral.vcf.gz\"\n",
    "meta = \"/home/jana/Documents/1Projects/HoneybeeDemo/Tsinfer/SampleMetaData.csv\"\n",
    "sampleFile = \"Chr1.samples\"\n",
    "ploidy = 1\n",
    "chrLength = {1:1000000, 2:2000000}"
   ]
  },
  {
   "cell_type": "code",
   "execution_count": 32,
   "id": "d84a777f",
   "metadata": {},
   "outputs": [
    {
     "name": "stdout",
     "output_type": "stream",
     "text": [
      "Chromosome is 1\n"
     ]
    }
   ],
   "source": [
    "print(\"Chromosome is \" + str(chromosome))"
   ]
  },
  {
   "cell_type": "code",
   "execution_count": 33,
   "id": "f86713a4",
   "metadata": {},
   "outputs": [],
   "source": [
    "def add_individuals(vcf, samples, populations, metaData, ploidy):\n",
    "    \"\"\"\n",
    "    The function to store the information about which nodes pertain to which sample\n",
    "    Could be modified in case of a different ploidy\n",
    "    :param vcf: Vcf file of your samples\n",
    "    :param samples:\n",
    "    :param populations:\n",
    "    :param metaData: meta data file with ID, Pop, Subpop, and time\n",
    "    :return:\n",
    "    \"\"\"\n",
    "    for name, population in zip(vcf.samples, populations):\n",
    "        samples.add_individual(ploidy=ploidy, metadata={\"name\": name}, population=population,time=list(metaData.Time[metaData.ID == name])[0])\n",
    "\n",
    "def add_sites(vcf, samples, ploidy):\n",
    "    \"\"\"\n",
    "    Read the sites in the vcf and add them to the samples object, reordering the\n",
    "    alleles to put the ancestral allele first, if it is available.\n",
    "    \"\"\"\n",
    "    pos = 0\n",
    "    for variant in vcf:  # Loop over variants, each assumed at a unique site\n",
    "        if pos == variant.POS:\n",
    "            raise ValueError(\"Duplicate positions for variant at position\", pos)\n",
    "        else:\n",
    "            pos = variant.POS\n",
    "        if ploidy > 1:\n",
    "            if any([not phased for _, _, phased in variant.genotypes]):\n",
    "                raise ValueError(\"Unphased genotypes for variant at position\", pos)\n",
    "        alleles = [variant.REF] + variant.ALT\n",
    "        ancestral = variant.INFO.get(\"AA\", variant.REF)\n",
    "        \n",
    "        try:\n",
    "            ancestral_allele = alleles.index(ancestral[0])\n",
    "            #print(pos, ancestral, ancestral_allele)\n",
    "        except:\n",
    "            ancestral_allele = MISSING_DATA\n",
    "\n",
    "\n",
    "        genotypes = [g for row in variant.genotypes for g in row[0:ploidy]]\n",
    "        samples.add_site(position=pos,\n",
    "                             genotypes=genotypes,\n",
    "                             alleles=alleles,\n",
    "                             ancestral_allele=ancestral_allele)\n",
    "\n",
    "\n",
    "# This function checks whether there is only one contig in the vcf - this may not be the case!\n",
    "def chromosome_length(vcf, chromosome):\n",
    "    \"\"\"\n",
    "    This is a modified function to read in the sequence length\n",
    "    :param vcf: vcffile\n",
    "    :return: the length of the sequence (genome or chromosme - depending what the vcf is for)\n",
    "    \"\"\"\n",
    "    #assert len(vcf.seqlens) == 1\n",
    "    return vcf.seqlens[int(chromosome)-1]\n",
    "\n",
    "\n",
    "def add_populations(vcf, samples, metaData):\n",
    "    \"\"\"\n",
    "    This is a modified add populations function for drones from David Wragg data\n",
    "    Add tsinfer Population objects for drone subspecies, stored in metaPop object, and return a list od IDs correposning to the VCF samples\n",
    "    Input: vcf = cyvcf2 VCF object, samples is tsinfer SampleData and metaData is a pandas dataframe with id in ID column and populations in Type column\n",
    "    pops = dictinary holding name and additional information about populations\n",
    "    Return: A list of population indexes\n",
    "    \"\"\"\n",
    "    pop_lookup = {}\n",
    "    metaPop = metaData[['Pop', 'SubPop']].drop_duplicates().dropna(axis = 0, how = 'all')\n",
    "    sample_subpop = [list(metaData.SubPop[metaData.ID == x]) for x in vcf.samples]\n",
    "    for subpop, pop in zip(metaPop.SubPop, metaPop.Pop):\n",
    "        pop_lookup[subpop] = samples.add_population(metadata={\"pop\": pop, \"subpop\": subpop})\n",
    "    return [pop_lookup[subpop[0]] for subpop in sample_subpop]"
   ]
  },
  {
   "cell_type": "code",
   "execution_count": 34,
   "id": "7a23672d",
   "metadata": {},
   "outputs": [
    {
     "data": {
      "text/plain": [
       "692"
      ]
     },
     "execution_count": 34,
     "metadata": {},
     "output_type": "execute_result"
    }
   ],
   "source": [
    "metaFile = pd.read_csv(meta)\n",
    "metaFile.head()\n",
    "len(metaFile)\n"
   ]
  },
  {
   "cell_type": "markdown",
   "id": "43470fd4",
   "metadata": {},
   "source": []
  },
  {
   "cell_type": "code",
   "execution_count": 35,
   "id": "4c7c8814",
   "metadata": {
    "scrolled": false
   },
   "outputs": [],
   "source": [
    "vcfD = cyvcf2.VCF(vcfFile, strict_gt=True)"
   ]
  },
  {
   "cell_type": "code",
   "execution_count": 36,
   "id": "ae474561",
   "metadata": {},
   "outputs": [],
   "source": [
    "vcf = vcfD\n",
    "metaData = metaFile"
   ]
  },
  {
   "cell_type": "code",
   "execution_count": 37,
   "id": "db2bc7d9",
   "metadata": {},
   "outputs": [
    {
     "name": "stdout",
     "output_type": "stream",
     "text": [
      "populations determined\n",
      "Inds added\n"
     ]
    }
   ],
   "source": [
    "with tsinfer.SampleData(path=sampleFile, \n",
    "                        sequence_length=chrLength[chromosome]) as samples:\n",
    "   populations = add_populations(vcf = vcfD, samples = samples, metaData = metaFile)\n",
    "   print(\"populations determined\")\n",
    "   add_individuals(vcf = vcfD, samples = samples, populations = populations, metaData = metaFile, ploidy = ploidy)\n",
    "   print(\"Inds added\")\n",
    "   add_sites(vcf = vcfD, samples = samples, ploidy = ploidy)"
   ]
  },
  {
   "cell_type": "code",
   "execution_count": 38,
   "id": "91ffe317",
   "metadata": {},
   "outputs": [
    {
     "name": "stdout",
     "output_type": "stream",
     "text": [
      "Sample file created for 692 samples (692 individuals) with 20 variable sites.\n"
     ]
    }
   ],
   "source": [
    "print(\n",
    "   \"Sample file created for {} samples \".format(samples.num_samples)\n",
    "   + \"({} individuals) \".format(samples.num_individuals)\n",
    "   + \"with {} variable sites.\".format(samples.num_sites)\n",
    ")"
   ]
  }
 ],
 "metadata": {
  "kernelspec": {
   "display_name": "Python 3 (ipykernel)",
   "language": "python",
   "name": "python3"
  },
  "language_info": {
   "codemirror_mode": {
    "name": "ipython",
    "version": 3
   },
   "file_extension": ".py",
   "mimetype": "text/x-python",
   "name": "python",
   "nbconvert_exporter": "python",
   "pygments_lexer": "ipython3",
   "version": "3.9.7"
  }
 },
 "nbformat": 4,
 "nbformat_minor": 5
}
